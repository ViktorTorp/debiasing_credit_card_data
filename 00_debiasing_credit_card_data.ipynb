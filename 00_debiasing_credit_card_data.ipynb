{
 "cells": [
  {
   "cell_type": "code",
   "execution_count": 1,
   "id": "64ed1b56",
   "metadata": {},
   "outputs": [],
   "source": [
    "import numpy as np\n",
    "import pandas as pd\n",
    "import matplotlib.pyplot as plt\n",
    "\n",
    "from sklearn.linear_model import LogisticRegression\n",
    "from sklearn.model_selection import KFold, StratifiedKFold\n",
    "from sklearn.metrics import accuracy_score\n",
    "from sklearn.model_selection import train_test_split\n",
    "from sklearn import preprocessing\n",
    "plt.rcParams[\"figure.figsize\"] = (10,7)"
   ]
  },
  {
   "cell_type": "markdown",
   "id": "1a5087c9",
   "metadata": {},
   "source": [
    "Using the preprocessed South German Credit Card data use the techniques presented in *A Geometric Solution to Fair Representation* to create a fairer version of the dataset. For this assignment you will work with 2 protected attributes: gender and age (in the dataset they are called personal_status_sex and age). personal_status_sex = 0 means the person is male, while personal_status_sex = 1 means the person is female. age is given in years."
   ]
  },
  {
   "cell_type": "code",
   "execution_count": 2,
   "id": "24792bc4",
   "metadata": {},
   "outputs": [],
   "source": [
    "# load data\n",
    "df = pd.read_csv('../data/SouthGermanCredit_processed.csv')"
   ]
  },
  {
   "cell_type": "code",
   "execution_count": 3,
   "id": "b3b05fa0",
   "metadata": {},
   "outputs": [
    {
     "data": {
      "text/html": [
       "<div>\n",
       "<style scoped>\n",
       "    .dataframe tbody tr th:only-of-type {\n",
       "        vertical-align: middle;\n",
       "    }\n",
       "\n",
       "    .dataframe tbody tr th {\n",
       "        vertical-align: top;\n",
       "    }\n",
       "\n",
       "    .dataframe thead th {\n",
       "        text-align: right;\n",
       "    }\n",
       "</style>\n",
       "<table border=\"1\" class=\"dataframe\">\n",
       "  <thead>\n",
       "    <tr style=\"text-align: right;\">\n",
       "      <th></th>\n",
       "      <th>status_no checking account</th>\n",
       "      <th>status_... &lt; 0 DM</th>\n",
       "      <th>status_0&lt;= ... &lt; 200 DM</th>\n",
       "      <th>status_... &gt;= 200 DM / salary for at least 1 year</th>\n",
       "      <th>duration</th>\n",
       "      <th>credit_history_delay in paying off in the past</th>\n",
       "      <th>credit_history_critical account/other credits elsewhere</th>\n",
       "      <th>credit_history_no credits taken/all credits paid back duly</th>\n",
       "      <th>credit_history_existing credits paid back duly till now</th>\n",
       "      <th>credit_history_all credits at this bank paid back duly</th>\n",
       "      <th>...</th>\n",
       "      <th>number_credits_4-5</th>\n",
       "      <th>number_credits_&gt;= 6</th>\n",
       "      <th>job_unemployed/unskilled - non-resident</th>\n",
       "      <th>job_unskilled - resident</th>\n",
       "      <th>job_skilled employee/official</th>\n",
       "      <th>job_manager/self-empl./highly qualif. employee</th>\n",
       "      <th>people_liable</th>\n",
       "      <th>telephone</th>\n",
       "      <th>foreign_worker</th>\n",
       "      <th>credit_risk</th>\n",
       "    </tr>\n",
       "  </thead>\n",
       "  <tbody>\n",
       "    <tr>\n",
       "      <th>0</th>\n",
       "      <td>1</td>\n",
       "      <td>0</td>\n",
       "      <td>0</td>\n",
       "      <td>0</td>\n",
       "      <td>18</td>\n",
       "      <td>0</td>\n",
       "      <td>0</td>\n",
       "      <td>0</td>\n",
       "      <td>0</td>\n",
       "      <td>1</td>\n",
       "      <td>...</td>\n",
       "      <td>0</td>\n",
       "      <td>0</td>\n",
       "      <td>0</td>\n",
       "      <td>0</td>\n",
       "      <td>1</td>\n",
       "      <td>0</td>\n",
       "      <td>0</td>\n",
       "      <td>0</td>\n",
       "      <td>0</td>\n",
       "      <td>1</td>\n",
       "    </tr>\n",
       "    <tr>\n",
       "      <th>1</th>\n",
       "      <td>1</td>\n",
       "      <td>0</td>\n",
       "      <td>0</td>\n",
       "      <td>0</td>\n",
       "      <td>9</td>\n",
       "      <td>0</td>\n",
       "      <td>0</td>\n",
       "      <td>0</td>\n",
       "      <td>0</td>\n",
       "      <td>1</td>\n",
       "      <td>...</td>\n",
       "      <td>0</td>\n",
       "      <td>0</td>\n",
       "      <td>0</td>\n",
       "      <td>0</td>\n",
       "      <td>1</td>\n",
       "      <td>0</td>\n",
       "      <td>1</td>\n",
       "      <td>0</td>\n",
       "      <td>0</td>\n",
       "      <td>1</td>\n",
       "    </tr>\n",
       "    <tr>\n",
       "      <th>2</th>\n",
       "      <td>0</td>\n",
       "      <td>1</td>\n",
       "      <td>0</td>\n",
       "      <td>0</td>\n",
       "      <td>12</td>\n",
       "      <td>0</td>\n",
       "      <td>0</td>\n",
       "      <td>1</td>\n",
       "      <td>0</td>\n",
       "      <td>0</td>\n",
       "      <td>...</td>\n",
       "      <td>0</td>\n",
       "      <td>0</td>\n",
       "      <td>0</td>\n",
       "      <td>1</td>\n",
       "      <td>0</td>\n",
       "      <td>0</td>\n",
       "      <td>0</td>\n",
       "      <td>0</td>\n",
       "      <td>0</td>\n",
       "      <td>1</td>\n",
       "    </tr>\n",
       "    <tr>\n",
       "      <th>3</th>\n",
       "      <td>1</td>\n",
       "      <td>0</td>\n",
       "      <td>0</td>\n",
       "      <td>0</td>\n",
       "      <td>12</td>\n",
       "      <td>0</td>\n",
       "      <td>0</td>\n",
       "      <td>0</td>\n",
       "      <td>0</td>\n",
       "      <td>1</td>\n",
       "      <td>...</td>\n",
       "      <td>0</td>\n",
       "      <td>0</td>\n",
       "      <td>0</td>\n",
       "      <td>1</td>\n",
       "      <td>0</td>\n",
       "      <td>0</td>\n",
       "      <td>1</td>\n",
       "      <td>0</td>\n",
       "      <td>1</td>\n",
       "      <td>1</td>\n",
       "    </tr>\n",
       "    <tr>\n",
       "      <th>4</th>\n",
       "      <td>1</td>\n",
       "      <td>0</td>\n",
       "      <td>0</td>\n",
       "      <td>0</td>\n",
       "      <td>12</td>\n",
       "      <td>0</td>\n",
       "      <td>0</td>\n",
       "      <td>0</td>\n",
       "      <td>0</td>\n",
       "      <td>1</td>\n",
       "      <td>...</td>\n",
       "      <td>0</td>\n",
       "      <td>0</td>\n",
       "      <td>0</td>\n",
       "      <td>1</td>\n",
       "      <td>0</td>\n",
       "      <td>0</td>\n",
       "      <td>0</td>\n",
       "      <td>0</td>\n",
       "      <td>1</td>\n",
       "      <td>1</td>\n",
       "    </tr>\n",
       "  </tbody>\n",
       "</table>\n",
       "<p>5 rows × 66 columns</p>\n",
       "</div>"
      ],
      "text/plain": [
       "   status_no checking account  status_... < 0 DM  status_0<= ... < 200 DM  \\\n",
       "0                           1                  0                        0   \n",
       "1                           1                  0                        0   \n",
       "2                           0                  1                        0   \n",
       "3                           1                  0                        0   \n",
       "4                           1                  0                        0   \n",
       "\n",
       "   status_... >= 200 DM / salary for at least 1 year  duration  \\\n",
       "0                                                  0        18   \n",
       "1                                                  0         9   \n",
       "2                                                  0        12   \n",
       "3                                                  0        12   \n",
       "4                                                  0        12   \n",
       "\n",
       "   credit_history_delay in paying off in the past  \\\n",
       "0                                               0   \n",
       "1                                               0   \n",
       "2                                               0   \n",
       "3                                               0   \n",
       "4                                               0   \n",
       "\n",
       "   credit_history_critical account/other credits elsewhere  \\\n",
       "0                                                  0         \n",
       "1                                                  0         \n",
       "2                                                  0         \n",
       "3                                                  0         \n",
       "4                                                  0         \n",
       "\n",
       "   credit_history_no credits taken/all credits paid back duly  \\\n",
       "0                                                  0            \n",
       "1                                                  0            \n",
       "2                                                  1            \n",
       "3                                                  0            \n",
       "4                                                  0            \n",
       "\n",
       "   credit_history_existing credits paid back duly till now  \\\n",
       "0                                                  0         \n",
       "1                                                  0         \n",
       "2                                                  0         \n",
       "3                                                  0         \n",
       "4                                                  0         \n",
       "\n",
       "   credit_history_all credits at this bank paid back duly  ...  \\\n",
       "0                                                  1       ...   \n",
       "1                                                  1       ...   \n",
       "2                                                  0       ...   \n",
       "3                                                  1       ...   \n",
       "4                                                  1       ...   \n",
       "\n",
       "   number_credits_4-5  number_credits_>= 6  \\\n",
       "0                   0                    0   \n",
       "1                   0                    0   \n",
       "2                   0                    0   \n",
       "3                   0                    0   \n",
       "4                   0                    0   \n",
       "\n",
       "   job_unemployed/unskilled - non-resident  job_unskilled - resident  \\\n",
       "0                                        0                         0   \n",
       "1                                        0                         0   \n",
       "2                                        0                         1   \n",
       "3                                        0                         1   \n",
       "4                                        0                         1   \n",
       "\n",
       "   job_skilled employee/official  \\\n",
       "0                              1   \n",
       "1                              1   \n",
       "2                              0   \n",
       "3                              0   \n",
       "4                              0   \n",
       "\n",
       "   job_manager/self-empl./highly qualif. employee  people_liable  telephone  \\\n",
       "0                                               0              0          0   \n",
       "1                                               0              1          0   \n",
       "2                                               0              0          0   \n",
       "3                                               0              1          0   \n",
       "4                                               0              0          0   \n",
       "\n",
       "   foreign_worker  credit_risk  \n",
       "0               0            1  \n",
       "1               0            1  \n",
       "2               0            1  \n",
       "3               1            1  \n",
       "4               1            1  \n",
       "\n",
       "[5 rows x 66 columns]"
      ]
     },
     "execution_count": 3,
     "metadata": {},
     "output_type": "execute_result"
    }
   ],
   "source": [
    "df.head()"
   ]
  },
  {
   "cell_type": "code",
   "execution_count": 4,
   "id": "84ef0d20",
   "metadata": {},
   "outputs": [
    {
     "data": {
      "text/plain": [
       "<AxesSubplot:>"
      ]
     },
     "execution_count": 4,
     "metadata": {},
     "output_type": "execute_result"
    },
    {
     "data": {
      "image/png": "[encoded data removed]",
      "text/plain": [
       "<Figure size 720x504 with 1 Axes>"
      ]
     },
     "metadata": {
      "needs_background": "light"
     },
     "output_type": "display_data"
    }
   ],
   "source": [
    "df.personal_status_sex.value_counts().plot(kind=\"bar\")"
   ]
  },
  {
   "cell_type": "code",
   "execution_count": 5,
   "id": "6e824209",
   "metadata": {},
   "outputs": [
    {
     "data": {
      "text/plain": [
       "<AxesSubplot:>"
      ]
     },
     "execution_count": 5,
     "metadata": {},
     "output_type": "execute_result"
    },
    {
     "data": {
      "image/png": "[encoded data removed]",
      "text/plain": [
       "<Figure size 720x504 with 1 Axes>"
      ]
     },
     "metadata": {
      "needs_background": "light"
     },
     "output_type": "display_data"
    }
   ],
   "source": [
    "df.age.value_counts().plot(kind=\"bar\")"
   ]
  },
  {
   "cell_type": "markdown",
   "id": "ba7ae0d8",
   "metadata": {},
   "source": [
    "# Task 1. \n",
    "Train a binary classifier to predict credit_risk on the raw dataset and\n",
    "calculate its general accuracy, and respectively the accuracies for men\n",
    "and women and for people aged ≤35 and >35. The model does not need\n",
    "to be fancy, logistic regression or Random Forest are completely fine\n",
    "choices. Remember to evaluate the model using cross validation."
   ]
  },
  {
   "cell_type": "code",
   "execution_count": 6,
   "id": "e417297e",
   "metadata": {},
   "outputs": [
    {
     "data": {
      "text/plain": [
       "<AxesSubplot:>"
      ]
     },
     "execution_count": 6,
     "metadata": {},
     "output_type": "execute_result"
    },
    {
     "data": {
      "image/png": "[encoded data removed]",
      "text/plain": [
       "<Figure size 720x504 with 1 Axes>"
      ]
     },
     "metadata": {
      "needs_background": "light"
     },
     "output_type": "display_data"
    }
   ],
   "source": [
    "# Create variable to indicate if a person is older than 35\n",
    "df[\"above_35\"] = df.age.apply(lambda x: x > 35)\n",
    "df.above_35.value_counts().plot(kind=\"bar\")"
   ]
  },
  {
   "cell_type": "code",
   "execution_count": 7,
   "id": "f698c705",
   "metadata": {},
   "outputs": [
    {
     "data": {
      "text/plain": [
       "1    700\n",
       "0    300\n",
       "Name: credit_risk, dtype: int64"
      ]
     },
     "execution_count": 7,
     "metadata": {},
     "output_type": "execute_result"
    }
   ],
   "source": [
    "df.credit_risk.value_counts()"
   ]
  },
  {
   "cell_type": "markdown",
   "id": "a34beb1b",
   "metadata": {},
   "source": [
    "**Note** as the the credit risk are skewed, we will be using stratified cross validation"
   ]
  },
  {
   "cell_type": "code",
   "execution_count": 11,
   "id": "d07e61eb",
   "metadata": {},
   "outputs": [],
   "source": [
    "def test_model(model, X, y, kfold, scaler=None):\n",
    "    \"\"\"\n",
    "    Test models using some cross validation method and with a scaling method.\n",
    "    \n",
    "    Parameters\n",
    "    ----------\n",
    "    model : sklearn model object. \n",
    "        This object must not be instansiated\n",
    "\n",
    "    X : pandas.Dataframe\n",
    "        df containing all the features, which the model should be trained on\n",
    "        \n",
    "    y : np.array\n",
    "        An array on the taget values\n",
    "    \n",
    "    kfold : sklearn.model_selection method e.g. KFold\n",
    "        This object must not be initialised. See example\n",
    "        \n",
    "    scaler : sklearn.preprocessing method e.g. StandardScaler, default=None\n",
    "        Scaling method, which must not be initialized (see example).\n",
    "        If None, then are the data not scaled\n",
    "        \n",
    "        \n",
    "    Returns\n",
    "    -------\n",
    "    numpy.array\n",
    "        An array containing the predictions\n",
    "\n",
    "\n",
    "    Example\n",
    "    -------\n",
    "    X, y = df.drop(columns=['credit_risk']), df['credit_risk'].values\n",
    "    kfold = StratifiedKFold(n_splits=5, shuffle=True, random_state=1)\n",
    "    scaler = preprocessing.StandardScaler\n",
    "    model = LogisticRegression\n",
    "    preds = test_model(model, X, y, kfold, scaler)\n",
    "    \"\"\"\n",
    "    \n",
    "    preds = np.zeros(len(y))\n",
    "    \n",
    "    for train_index, test_index in kfold.split(X, y):\n",
    "        X_train, X_test = X.iloc[train_index], X.iloc[test_index]\n",
    "        y_train, y_test = y[train_index], y[test_index]\n",
    "        \n",
    "        if scaler:\n",
    "            tmp_scaler = scaler().fit(X_train)\n",
    "            X_train = tmp_scaler.transform(X_train)\n",
    "            X_test = tmp_scaler.transform(X_test)\n",
    "            \n",
    "        tmp_model = model()\n",
    "        tmp_model = tmp_model.fit(X_train, y_train)\n",
    "        preds[test_index] = tmp_model.predict(X_test)    \n",
    "    return preds\n",
    "    \n",
    "X, y = df.drop(columns=['credit_risk']), df['credit_risk'].values\n",
    "kfold = StratifiedKFold(n_splits=5, shuffle=True, random_state=1)\n",
    "scaler = preprocessing.StandardScaler\n",
    "model = LogisticRegression\n",
    "preds = test_model(model, X, y, kfold, scaler)"
   ]
  },
  {
   "cell_type": "code",
   "execution_count": 9,
   "id": "2c27a88f",
   "metadata": {},
   "outputs": [],
   "source": [
    "results_df = df.copy()\n",
    "results_df[\"task_1_preds\"] = preds"
   ]
  },
  {
   "cell_type": "code",
   "execution_count": 48,
   "id": "616c5aeb",
   "metadata": {},
   "outputs": [
    {
     "name": "stdout",
     "output_type": "stream",
     "text": [
      "Overall accuracy = 0.746\n",
      "Male accuracy = 0.766\n",
      "Female accuracy = 0.739\n",
      "Above 35 accuracy = 0.799\n",
      "35 or less accuracy = 0.724\n"
     ]
    },
    {
     "data": {
      "image/png": "[encoded data removed]",
      "text/plain": [
       "<Figure size 720x504 with 2 Axes>"
      ]
     },
     "metadata": {
      "needs_background": "light"
     },
     "output_type": "display_data"
    }
   ],
   "source": [
    "# Report accuracies\n",
    "def report_results(result_df, result_col):\n",
    "    \"\"\"\n",
    "    Report the accuracies from an experience\n",
    "    \n",
    "    Parameters\n",
    "    ----------\n",
    "    result_df : pandas.DataFrame\n",
    "        The original df containing all of the credit card features and the credit_risk\n",
    "        and with the the predictions from the experiment.\n",
    "\n",
    "    result_col : Str\n",
    "        Name of the column containing the prediction from the experiment\n",
    "        \n",
    "        \n",
    "    Returns\n",
    "    -------\n",
    "    None\n",
    "\n",
    "\n",
    "    Example\n",
    "    -------\n",
    "    results_df = df.copy()\n",
    "    results_df[\"task_1_preds\"] = preds\n",
    "    result_col = \"task_1_preds\"\n",
    "    report_results(results_df, result_col)\n",
    "    \"\"\"\n",
    "    y_true = result_df[\"credit_risk\"].values\n",
    "    y_pred = result_df[result_col].values\n",
    "    acc = accuracy_score(y_true, y_pred)\n",
    "    print(f\"Overall accuracy = {acc:.3}\")\n",
    "    \n",
    "    male_idx = result_df.loc[result_df.personal_status_sex == 0].index.values\n",
    "    male_acc = accuracy_score(y_true[male_idx], y_pred[male_idx])\n",
    "    female_acc = accuracy_score(y_true[~male_idx], y_pred[~male_idx])\n",
    "    print(f\"Male accuracy = {male_acc:.3}\")\n",
    "    print(f\"Female accuracy = {female_acc:.3}\")\n",
    "    \n",
    "    \n",
    "    above35_idx = result_df.loc[result_df.above_35].index.values\n",
    "    above35_acc = accuracy_score(y_true[above35_idx], y_pred[above35_idx])\n",
    "    not_above35_acc = accuracy_score(y_true[~above35_idx], y_pred[~above35_idx])\n",
    "    print(f\"Above 35 accuracy = {above35_acc:.3}\")\n",
    "    print(f\"35 or less accuracy = {not_above35_acc:.3}\")\n",
    "    \n",
    "    fig, axs = plt.subplots(1, 2)\n",
    "    \n",
    "    axs[0].bar([\"Overall\", \"Male\", \"Female\"], [acc, male_acc, female_acc])\n",
    "    axs[0].set_title(\"Model acc, in general and according to sex\")    \n",
    "    \n",
    "    axs[1].bar([\"Overall\", \"Above 35\", \"35 or less\"], [acc, above35_acc, not_above35_acc])\n",
    "    axs[1].set_title(\"Model acc, in general and according to age group\")\n",
    "    plt.show()\n",
    "\n",
    "result_col = \"task_1_preds\"\n",
    "report_results(results_df, result_col)"
   ]
  },
  {
   "cell_type": "markdown",
   "id": "b9b698bd",
   "metadata": {},
   "source": [
    "# Task 2.\n",
    "Using the “fairer” (reprojected) version of the dataset, build a similar\n",
    "classification model and calculate: \n",
    "1) the overall accuracy, \n",
    "\n",
    "2) the accuracy for men and women, and \n",
    "\n",
    "3) for people aged ≤35 and >35. \n",
    "\n",
    "Record your results and create a plot of how accuracies vary as functions of �Î[0,1]."
   ]
  },
  {
   "cell_type": "code",
   "execution_count": null,
   "id": "57096f52",
   "metadata": {},
   "outputs": [],
   "source": []
  }
 ],
 "metadata": {
  "kernelspec": {
   "display_name": "Python 3 (ipykernel)",
   "language": "python",
   "name": "python3"
  },
  "language_info": {
   "codemirror_mode": {
    "name": "ipython",
    "version": 3
   },
   "file_extension": ".py",
   "mimetype": "text/x-python",
   "name": "python",
   "nbconvert_exporter": "python",
   "pygments_lexer": "ipython3",
   "version": "3.9.7"
  },
  "latex_envs": {
   "LaTeX_envs_menu_present": true,
   "autoclose": false,
   "autocomplete": true,
   "bibliofile": "biblio.bib",
   "cite_by": "apalike",
   "current_citInitial": 1,
   "eqLabelWithNumbers": true,
   "eqNumInitial": 1,
   "hotkeys": {
    "equation": "Ctrl-E",
    "itemize": "Ctrl-I"
   },
   "labels_anchors": false,
   "latex_user_defs": false,
   "report_style_numbering": false,
   "user_envs_cfg": false
  }
 },
 "nbformat": 4,
 "nbformat_minor": 5
}
